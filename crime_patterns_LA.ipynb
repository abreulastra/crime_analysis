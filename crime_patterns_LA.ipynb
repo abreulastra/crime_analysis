{
 "cells": [
  {
   "cell_type": "markdown",
   "metadata": {},
   "source": [
    "## Visualizing crime statistics in LA"
   ]
  },
  {
   "cell_type": "markdown",
   "metadata": {},
   "source": [
    "### Goal: \n",
    "To understand the crime landscape in LA by answering the following questions.\n",
    "#### What are most significant crimes in LA?\n",
    "#### Is the police response a match for the criminal activity?\n",
    "#### What recommendations would you give to someone planning to visit LA soon?"
   ]
  },
  {
   "cell_type": "code",
   "execution_count": 1,
   "metadata": {},
   "outputs": [],
   "source": [
    "import pandas as pd\n"
   ]
  },
  {
   "cell_type": "code",
   "execution_count": 3,
   "metadata": {},
   "outputs": [],
   "source": [
    "path = 'los-angeles-crime-arrest-data/'\n",
    "cri = pd.read_csv(path + 'crime-data-from-2010-to-present.csv', encoding='utf-8')\n",
    "arr = pd.read_csv(path + 'arrest-data-from-2010-to-present.csv', encoding='utf-8')"
   ]
  },
  {
   "cell_type": "code",
   "execution_count": 28,
   "metadata": {},
   "outputs": [
    {
     "data": {
      "text/plain": [
       "STRONG-ARM (HANDS, FIST, FEET OR BODILY FORCE)    0.606357\n",
       "VERBAL THREAT                                     0.082774\n",
       "UNKNOWN WEAPON/OTHER WEAPON                       0.080322\n",
       "HAND GUN                                          0.048087\n",
       "SEMI-AUTOMATIC PISTOL                             0.018446\n",
       "KNIFE WITH BLADE 6INCHES OR LESS                  0.018055\n",
       "OTHER KNIFE                                       0.013623\n",
       "UNKNOWN FIREARM                                   0.011177\n",
       "VEHICLE                                           0.010245\n",
       "REVOLVER                                          0.008090\n",
       "BOTTLE                                            0.007140\n",
       "STICK                                             0.006420\n",
       "ROCK/THROWN OBJECT                                0.006418\n",
       "CLUB/BAT                                          0.006140\n",
       "BLUNT INSTRUMENT                                  0.006110\n",
       "FOLDING KNIFE                                     0.005994\n",
       "MACE/PEPPER SPRAY                                 0.005482\n",
       "KITCHEN KNIFE                                     0.005377\n",
       "SIMULATED GUN                                     0.005088\n",
       "KNIFE WITH BLADE OVER 6 INCHES IN LENGTH          0.004765\n",
       "BELT FLAILING INSTRUMENT/CHAIN                    0.003698\n",
       "AIR PISTOL/REVOLVER/RIFLE/BB GUN                  0.003674\n",
       "OTHER CUTTING INSTRUMENT                          0.003160\n",
       "PIPE/METAL PIPE                                   0.002946\n",
       "PHYSICAL PRESENCE                                 0.002489\n",
       "SCREWDRIVER                                       0.002280\n",
       "HAMMER                                            0.002025\n",
       "UNKNOWN TYPE CUTTING INSTRUMENT                   0.002010\n",
       "SHOTGUN                                           0.001742\n",
       "MACHETE                                           0.001586\n",
       "                                                    ...   \n",
       "AUTOMATIC WEAPON/SUB-MACHINE GUN                  0.000280\n",
       "RAZOR                                             0.000274\n",
       "SWORD                                             0.000267\n",
       "ASSAULT WEAPON/UZI/AK47/ETC                       0.000253\n",
       "ICE PICK                                          0.000250\n",
       "EXPLOXIVE DEVICE                                  0.000223\n",
       "SAWED OFF RIFLE/SHOTGUN                           0.000220\n",
       "HECKLER & KOCH 93 SEMIAUTOMATIC ASSAULT RIFLE     0.000198\n",
       "LIQUOR/DRUGS                                      0.000193\n",
       "DIRK/DAGGER                                       0.000184\n",
       "STARTER PISTOL/REVOLVER                           0.000156\n",
       "SEMI-AUTOMATIC RIFLE                              0.000138\n",
       "ROPE/LIGATURE                                     0.000115\n",
       "CLEAVER                                           0.000115\n",
       "BLACKJACK                                         0.000093\n",
       "BOWIE KNIFE                                       0.000088\n",
       "STRAIGHT RAZOR                                    0.000081\n",
       "DOG/ANIMAL (SIC ANIMAL ON)                        0.000054\n",
       "SYRINGE                                           0.000051\n",
       "MARTIAL ARTS WEAPONS                              0.000048\n",
       "BOW AND ARROW                                     0.000034\n",
       "UNK TYPE SEMIAUTOMATIC ASSAULT RIFLE              0.000033\n",
       "UZI SEMIAUTOMATIC ASSAULT RIFLE                   0.000030\n",
       "HECKLER & KOCH 91 SEMIAUTOMATIC ASSAULT RIFLE     0.000021\n",
       "RELIC FIREARM                                     0.000021\n",
       "MAC-10 SEMIAUTOMATIC ASSAULT WEAPON               0.000015\n",
       "ANTIQUE FIREARM                                   0.000013\n",
       "MAC-11 SEMIAUTOMATIC ASSAULT WEAPON               0.000010\n",
       "M1-1 SEMIAUTOMATIC ASSAULT RIFLE                  0.000004\n",
       "M-14 SEMIAUTOMATIC ASSAULT RIFLE                  0.000001\n",
       "Name: Weapon Description, Length: 79, dtype: float64"
      ]
     },
     "execution_count": 28,
     "metadata": {},
     "output_type": "execute_result"
    }
   ],
   "source": [
    "cri['Weapon Description'].value_counts() /cri['Weapon Description'].value_counts().sum()"
   ]
  },
  {
   "cell_type": "code",
   "execution_count": 32,
   "metadata": {},
   "outputs": [
    {
     "data": {
      "text/plain": [
       "Index(['DR Number', 'Date Reported', 'Date Occurred', 'Time Occurred',\n",
       "       'Area ID', 'Area Name', 'Reporting District', 'Crime Code',\n",
       "       'Crime Code Description', 'MO Codes', 'Victim Age', 'Victim Sex',\n",
       "       'Victim Descent', 'Premise Code', 'Premise Description',\n",
       "       'Weapon Used Code', 'Weapon Description', 'Status Code',\n",
       "       'Status Description', 'Crime Code 1', 'Crime Code 2', 'Crime Code 3',\n",
       "       'Crime Code 4', 'Address', 'Cross Street', 'Location '],\n",
       "      dtype='object')"
      ]
     },
     "execution_count": 32,
     "metadata": {},
     "output_type": "execute_result"
    }
   ],
   "source": [
    "cri.columns"
   ]
  },
  {
   "cell_type": "code",
   "execution_count": 36,
   "metadata": {},
   "outputs": [
    {
     "data": {
      "text/plain": [
       "Invest Cont     0.772084\n",
       "Adult Other     0.115213\n",
       "Adult Arrest    0.102603\n",
       "Juv Arrest      0.007622\n",
       "Juv Other       0.002462\n",
       "UNK             0.000016\n",
       "Name: Status Description, dtype: float64"
      ]
     },
     "execution_count": 36,
     "metadata": {},
     "output_type": "execute_result"
    }
   ],
   "source": [
    "cri['Status Description'].value_counts() /cri['Status Description'].value_counts().sum()"
   ]
  },
  {
   "cell_type": "code",
   "execution_count": 33,
   "metadata": {},
   "outputs": [
    {
     "data": {
      "text/html": [
       "<div>\n",
       "<style scoped>\n",
       "    .dataframe tbody tr th:only-of-type {\n",
       "        vertical-align: middle;\n",
       "    }\n",
       "\n",
       "    .dataframe tbody tr th {\n",
       "        vertical-align: top;\n",
       "    }\n",
       "\n",
       "    .dataframe thead th {\n",
       "        text-align: right;\n",
       "    }\n",
       "</style>\n",
       "<table border=\"1\" class=\"dataframe\">\n",
       "  <thead>\n",
       "    <tr style=\"text-align: right;\">\n",
       "      <th></th>\n",
       "      <th>Victim Descent</th>\n",
       "      <th>Premise Code</th>\n",
       "      <th>Premise Description</th>\n",
       "      <th>Weapon Used Code</th>\n",
       "      <th>Weapon Description</th>\n",
       "      <th>Status Code</th>\n",
       "      <th>Status Description</th>\n",
       "      <th>Crime Code 1</th>\n",
       "      <th>Crime Code 2</th>\n",
       "      <th>Crime Code 3</th>\n",
       "      <th>Crime Code 4</th>\n",
       "    </tr>\n",
       "  </thead>\n",
       "  <tbody>\n",
       "    <tr>\n",
       "      <th>0</th>\n",
       "      <td>NaN</td>\n",
       "      <td>101.0</td>\n",
       "      <td>STREET</td>\n",
       "      <td>NaN</td>\n",
       "      <td>NaN</td>\n",
       "      <td>IC</td>\n",
       "      <td>Invest Cont</td>\n",
       "      <td>510.0</td>\n",
       "      <td>NaN</td>\n",
       "      <td>NaN</td>\n",
       "      <td>NaN</td>\n",
       "    </tr>\n",
       "    <tr>\n",
       "      <th>1</th>\n",
       "      <td>NaN</td>\n",
       "      <td>101.0</td>\n",
       "      <td>STREET</td>\n",
       "      <td>NaN</td>\n",
       "      <td>NaN</td>\n",
       "      <td>IC</td>\n",
       "      <td>Invest Cont</td>\n",
       "      <td>510.0</td>\n",
       "      <td>NaN</td>\n",
       "      <td>NaN</td>\n",
       "      <td>NaN</td>\n",
       "    </tr>\n",
       "    <tr>\n",
       "      <th>2</th>\n",
       "      <td>NaN</td>\n",
       "      <td>108.0</td>\n",
       "      <td>PARKING LOT</td>\n",
       "      <td>NaN</td>\n",
       "      <td>NaN</td>\n",
       "      <td>IC</td>\n",
       "      <td>Invest Cont</td>\n",
       "      <td>510.0</td>\n",
       "      <td>NaN</td>\n",
       "      <td>NaN</td>\n",
       "      <td>NaN</td>\n",
       "    </tr>\n",
       "    <tr>\n",
       "      <th>3</th>\n",
       "      <td>NaN</td>\n",
       "      <td>101.0</td>\n",
       "      <td>STREET</td>\n",
       "      <td>NaN</td>\n",
       "      <td>NaN</td>\n",
       "      <td>IC</td>\n",
       "      <td>Invest Cont</td>\n",
       "      <td>510.0</td>\n",
       "      <td>NaN</td>\n",
       "      <td>NaN</td>\n",
       "      <td>NaN</td>\n",
       "    </tr>\n",
       "    <tr>\n",
       "      <th>4</th>\n",
       "      <td>NaN</td>\n",
       "      <td>101.0</td>\n",
       "      <td>STREET</td>\n",
       "      <td>NaN</td>\n",
       "      <td>NaN</td>\n",
       "      <td>IC</td>\n",
       "      <td>Invest Cont</td>\n",
       "      <td>510.0</td>\n",
       "      <td>NaN</td>\n",
       "      <td>NaN</td>\n",
       "      <td>NaN</td>\n",
       "    </tr>\n",
       "  </tbody>\n",
       "</table>\n",
       "</div>"
      ],
      "text/plain": [
       "  Victim Descent  Premise Code Premise Description  Weapon Used Code  \\\n",
       "0            NaN         101.0              STREET               NaN   \n",
       "1            NaN         101.0              STREET               NaN   \n",
       "2            NaN         108.0         PARKING LOT               NaN   \n",
       "3            NaN         101.0              STREET               NaN   \n",
       "4            NaN         101.0              STREET               NaN   \n",
       "\n",
       "  Weapon Description Status Code Status Description  Crime Code 1  \\\n",
       "0                NaN          IC        Invest Cont         510.0   \n",
       "1                NaN          IC        Invest Cont         510.0   \n",
       "2                NaN          IC        Invest Cont         510.0   \n",
       "3                NaN          IC        Invest Cont         510.0   \n",
       "4                NaN          IC        Invest Cont         510.0   \n",
       "\n",
       "   Crime Code 2  Crime Code 3  Crime Code 4  \n",
       "0           NaN           NaN           NaN  \n",
       "1           NaN           NaN           NaN  \n",
       "2           NaN           NaN           NaN  \n",
       "3           NaN           NaN           NaN  \n",
       "4           NaN           NaN           NaN  "
      ]
     },
     "execution_count": 33,
     "metadata": {},
     "output_type": "execute_result"
    }
   ],
   "source": [
    "cri[[ 'Victim Descent', 'Premise Code', 'Premise Description',\n",
    "       'Weapon Used Code', 'Weapon Description', 'Status Code',\n",
    "       'Status Description', 'Crime Code 1', 'Crime Code 2', 'Crime Code 3',\n",
    "       'Crime Code 4']].head()"
   ]
  },
  {
   "cell_type": "code",
   "execution_count": 18,
   "metadata": {},
   "outputs": [
    {
     "ename": "AttributeError",
     "evalue": "'int' object has no attribute 'head'",
     "output_type": "error",
     "traceback": [
      "\u001b[0;31m---------------------------------------------------------------------------\u001b[0m",
      "\u001b[0;31mAttributeError\u001b[0m                            Traceback (most recent call last)",
      "\u001b[0;32m<ipython-input-18-9dbd1f5e5968>\u001b[0m in \u001b[0;36m<module>\u001b[0;34m\u001b[0m\n\u001b[0;32m----> 1\u001b[0;31m \u001b[0mcri\u001b[0m\u001b[0;34m[\u001b[0m\u001b[0;34m'Crime Code Description'\u001b[0m\u001b[0;34m]\u001b[0m\u001b[0;34m.\u001b[0m\u001b[0mvalue_counts\u001b[0m\u001b[0;34m(\u001b[0m\u001b[0;34m)\u001b[0m \u001b[0;34m/\u001b[0m \u001b[0mint\u001b[0m\u001b[0;34m(\u001b[0m\u001b[0mcri\u001b[0m\u001b[0;34m[\u001b[0m\u001b[0;34m'Crime Code Description'\u001b[0m\u001b[0;34m]\u001b[0m\u001b[0;34m.\u001b[0m\u001b[0mvalue_counts\u001b[0m\u001b[0;34m(\u001b[0m\u001b[0;34m)\u001b[0m\u001b[0;34m.\u001b[0m\u001b[0msum\u001b[0m\u001b[0;34m(\u001b[0m\u001b[0;34m)\u001b[0m\u001b[0;34m)\u001b[0m\u001b[0;34m.\u001b[0m\u001b[0mhead\u001b[0m\u001b[0;34m(\u001b[0m\u001b[0;36m5\u001b[0m\u001b[0;34m)\u001b[0m\u001b[0;34m\u001b[0m\u001b[0;34m\u001b[0m\u001b[0m\n\u001b[0m",
      "\u001b[0;31mAttributeError\u001b[0m: 'int' object has no attribute 'head'"
     ]
    }
   ],
   "source": [
    "cri['Crime Code Description'].value_counts().head() / float(cri['Crime Code Description'].value_counts().sum())\n"
   ]
  },
  {
   "cell_type": "code",
   "execution_count": 23,
   "metadata": {},
   "outputs": [
    {
     "data": {
      "text/plain": [
       "BATTERY - SIMPLE ASSAULT                                   180434\n",
       "BURGLARY FROM VEHICLE                                      153451\n",
       "VEHICLE - STOLEN                                           151622\n",
       "THEFT PLAIN - PETTY ($950 & UNDER)                         141489\n",
       "BURGLARY                                                   140926\n",
       "THEFT OF IDENTITY                                          120835\n",
       "INTIMATE PARTNER - SIMPLE ASSAULT                          107900\n",
       "VANDALISM - FELONY ($400 & OVER, ALL CHURCH VANDALISMS)    102589\n",
       "ASSAULT WITH DEADLY WEAPON, AGGRAVATED ASSAULT              86829\n",
       "VANDALISM - MISDEAMEANOR ($399 OR UNDER)                    86440\n",
       "Name: Crime Code Description, dtype: int64"
      ]
     },
     "execution_count": 23,
     "metadata": {},
     "output_type": "execute_result"
    }
   ],
   "source": [
    "cri['Crime Code Description'].value_counts().head(10)"
   ]
  },
  {
   "cell_type": "code",
   "execution_count": 22,
   "metadata": {},
   "outputs": [
    {
     "data": {
      "text/plain": [
       "DRUNK DRIVING ALCOHOL/DRUGS                 95410\n",
       "DRINKING IN PUBLIC                          92965\n",
       "CORPORAL INJURY ON SPOUSE/COHABITANT/ETC    44812\n",
       "POSSESSION CONTROLLED SUBSTANCE             43697\n",
       "FTA AFTER WRITTEN PROMISE                   31177\n",
       "POSSESSION NARCOTIC CONTROLLED SUBSTANCE    29352\n",
       "PROSTITUTION                                26169\n",
       "OPEN ALCOHOLIC BEV IN PUBLIC PARK/PLACE     25668\n",
       "SIT/LIE/SLEEP SIDEWALK OR STREET            25573\n",
       "LOS ANGELES MUNICIPAL CODE                  24367\n",
       "Name: Charge Description, dtype: int64"
      ]
     },
     "execution_count": 22,
     "metadata": {},
     "output_type": "execute_result"
    }
   ],
   "source": [
    "arr['Charge Description'].value_counts().head(10)"
   ]
  },
  {
   "cell_type": "code",
   "execution_count": 29,
   "metadata": {},
   "outputs": [
    {
     "data": {
      "text/plain": [
       "Index(['Report ID', 'Arrest Date', 'Time', 'Area ID', 'Area Name',\n",
       "       'Reporting District', 'Age', 'Sex Code', 'Descent Code',\n",
       "       'Charge Group Code', 'Charge Group Description', 'Arrest Type Code',\n",
       "       'Charge', 'Charge Description', 'Address', 'Cross Street', 'Location',\n",
       "       'Zip Codes', 'Census Tracts', 'Precinct Boundaries',\n",
       "       'LA Specific Plans', 'Council Districts',\n",
       "       'Neighborhood Councils (Certified)'],\n",
       "      dtype='object')"
      ]
     },
     "execution_count": 29,
     "metadata": {},
     "output_type": "execute_result"
    }
   ],
   "source": [
    "arr.columns"
   ]
  },
  {
   "cell_type": "code",
   "execution_count": 31,
   "metadata": {},
   "outputs": [
    {
     "data": {
      "text/html": [
       "<div>\n",
       "<style scoped>\n",
       "    .dataframe tbody tr th:only-of-type {\n",
       "        vertical-align: middle;\n",
       "    }\n",
       "\n",
       "    .dataframe tbody tr th {\n",
       "        vertical-align: top;\n",
       "    }\n",
       "\n",
       "    .dataframe thead th {\n",
       "        text-align: right;\n",
       "    }\n",
       "</style>\n",
       "<table border=\"1\" class=\"dataframe\">\n",
       "  <thead>\n",
       "    <tr style=\"text-align: right;\">\n",
       "      <th></th>\n",
       "      <th>Sex Code</th>\n",
       "      <th>Descent Code</th>\n",
       "      <th>Charge Group Code</th>\n",
       "      <th>Charge Group Description</th>\n",
       "      <th>Arrest Type Code</th>\n",
       "      <th>Charge</th>\n",
       "      <th>Charge Description</th>\n",
       "      <th>LA Specific Plans</th>\n",
       "    </tr>\n",
       "  </thead>\n",
       "  <tbody>\n",
       "    <tr>\n",
       "      <th>0</th>\n",
       "      <td>M</td>\n",
       "      <td>W</td>\n",
       "      <td>24.0</td>\n",
       "      <td>Miscellaneous Other Violations</td>\n",
       "      <td>M</td>\n",
       "      <td>594(A)PC</td>\n",
       "      <td>VANDALISM</td>\n",
       "      <td>10.0</td>\n",
       "    </tr>\n",
       "    <tr>\n",
       "      <th>1</th>\n",
       "      <td>M</td>\n",
       "      <td>O</td>\n",
       "      <td>NaN</td>\n",
       "      <td>NaN</td>\n",
       "      <td>O</td>\n",
       "      <td>300(B)WIC</td>\n",
       "      <td>NaN</td>\n",
       "      <td>NaN</td>\n",
       "    </tr>\n",
       "    <tr>\n",
       "      <th>2</th>\n",
       "      <td>F</td>\n",
       "      <td>O</td>\n",
       "      <td>22.0</td>\n",
       "      <td>Driving Under Influence</td>\n",
       "      <td>M</td>\n",
       "      <td>23152(A)VC</td>\n",
       "      <td>DRUNK DRIVING ALCOHOL/DRUGS</td>\n",
       "      <td>17.0</td>\n",
       "    </tr>\n",
       "    <tr>\n",
       "      <th>3</th>\n",
       "      <td>F</td>\n",
       "      <td>W</td>\n",
       "      <td>22.0</td>\n",
       "      <td>Driving Under Influence</td>\n",
       "      <td>M</td>\n",
       "      <td>23152(A)VC</td>\n",
       "      <td>DRUNK DRIVING ALCOHOL/DRUGS</td>\n",
       "      <td>NaN</td>\n",
       "    </tr>\n",
       "    <tr>\n",
       "      <th>4</th>\n",
       "      <td>M</td>\n",
       "      <td>W</td>\n",
       "      <td>8.0</td>\n",
       "      <td>Other Assaults</td>\n",
       "      <td>F</td>\n",
       "      <td>69PC</td>\n",
       "      <td>OBSTRUCT/RESIST EXECUTIVE OFFICER</td>\n",
       "      <td>10.0</td>\n",
       "    </tr>\n",
       "  </tbody>\n",
       "</table>\n",
       "</div>"
      ],
      "text/plain": [
       "  Sex Code Descent Code  Charge Group Code        Charge Group Description  \\\n",
       "0        M            W               24.0  Miscellaneous Other Violations   \n",
       "1        M            O                NaN                             NaN   \n",
       "2        F            O               22.0         Driving Under Influence   \n",
       "3        F            W               22.0         Driving Under Influence   \n",
       "4        M            W                8.0                  Other Assaults   \n",
       "\n",
       "  Arrest Type Code      Charge                 Charge Description  \\\n",
       "0                M    594(A)PC                          VANDALISM   \n",
       "1                O   300(B)WIC                                NaN   \n",
       "2                M  23152(A)VC        DRUNK DRIVING ALCOHOL/DRUGS   \n",
       "3                M  23152(A)VC        DRUNK DRIVING ALCOHOL/DRUGS   \n",
       "4                F        69PC  OBSTRUCT/RESIST EXECUTIVE OFFICER   \n",
       "\n",
       "   LA Specific Plans  \n",
       "0               10.0  \n",
       "1                NaN  \n",
       "2               17.0  \n",
       "3                NaN  \n",
       "4               10.0  "
      ]
     },
     "execution_count": 31,
     "metadata": {},
     "output_type": "execute_result"
    }
   ],
   "source": [
    "arr[['Sex Code', 'Descent Code',\n",
    "       'Charge Group Code', 'Charge Group Description', 'Arrest Type Code',\n",
    "       'Charge', 'Charge Description','LA Specific Plans']].head()"
   ]
  },
  {
   "cell_type": "code",
   "execution_count": null,
   "metadata": {},
   "outputs": [],
   "source": []
  }
 ],
 "metadata": {
  "kernelspec": {
   "display_name": "Python 3",
   "language": "python",
   "name": "python3"
  },
  "language_info": {
   "codemirror_mode": {
    "name": "ipython",
    "version": 3
   },
   "file_extension": ".py",
   "mimetype": "text/x-python",
   "name": "python",
   "nbconvert_exporter": "python",
   "pygments_lexer": "ipython3",
   "version": "3.6.8"
  }
 },
 "nbformat": 4,
 "nbformat_minor": 2
}
